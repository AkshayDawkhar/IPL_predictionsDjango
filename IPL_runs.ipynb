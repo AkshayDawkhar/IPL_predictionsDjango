{
  "nbformat": 4,
  "nbformat_minor": 0,
  "metadata": {
    "colab": {
      "name": "Untitled7.ipynb",
      "provenance": [],
      "mount_file_id": "1ouBKsPVejGq3IM-P2WpzeKAdFm7Ddyrv",
      "authorship_tag": "ABX9TyPlBTmL/+GWn3sE2I5DQ9W4",
      "include_colab_link": true
    },
    "kernelspec": {
      "name": "python3",
      "display_name": "Python 3"
    },
    "language_info": {
      "name": "python"
    }
  },
  "cells": [
    {
      "cell_type": "markdown",
      "metadata": {
        "id": "view-in-github",
        "colab_type": "text"
      },
      "source": [
        "<a href=\"https://colab.research.google.com/github/AkshayDawkhar/IPL_predictionsDjango/blob/main/IPL_runs.ipynb\" target=\"_parent\"><img src=\"https://colab.research.google.com/assets/colab-badge.svg\" alt=\"Open In Colab\"/></a>"
      ]
    },
    {
      "cell_type": "code",
      "execution_count": 2,
      "metadata": {
        "id": "94hpibElg09a"
      },
      "outputs": [],
      "source": [
        "import pandas as pd\n",
        "import numpy as np\n",
        "import sklearn\n",
        "from sklearn.preprocessing import LabelEncoder"
      ]
    },
    {
      "cell_type": "code",
      "source": [
        "data = pd.read_csv('/content/drive/MyDrive/ml/ipl_data.csv')"
      ],
      "metadata": {
        "id": "SYcfUEychNc3"
      },
      "execution_count": 3,
      "outputs": []
    },
    {
      "cell_type": "code",
      "source": [
        "data['Venue'].unique()"
      ],
      "metadata": {
        "colab": {
          "base_uri": "https://localhost:8080/"
        },
        "id": "Criv9fmChfXe",
        "outputId": "8a800517-fbeb-4648-b261-02f70fcd1a33"
      },
      "execution_count": 4,
      "outputs": [
        {
          "output_type": "execute_result",
          "data": {
            "text/plain": [
              "array(['M. Chinnaswamy Stadium, Bangalore',\n",
              "       'Punjab Cricket Association Stadium, Mohali',\n",
              "       'Feroz Shah Kotla, Delhi', 'Eden Gardens, Kolkata',\n",
              "       'Wankhede Stadium, Mumbai', 'Sawai Mansingh Stadium, Jaipur',\n",
              "       'Rajiv Gandhi International Cricket Stadium, Hyderabad',\n",
              "       'M. A Chidambaram Stadium, Chennai',\n",
              "       'DY Patil Stadium, Navi Mumbai', 'Newlands, Cape Town',\n",
              "       \"St George's Park, Port Elizabeth\", 'Kingsmead, Durban',\n",
              "       'SuperSport Park, Centurion', 'Buffalo Park, East London',\n",
              "       'New Wanderers Stadium, Johannesburg',\n",
              "       'De Beers Diamond Oval, Kimberley',\n",
              "       'OUTsurance Oval, Bloemfontein', 'DY Patil Stadium, Mumbai',\n",
              "       'Brabourne Stadium, Mumbai', 'M. A. Chidambaram Stadium, Chennai',\n",
              "       'Sardar Patel Stadium, Ahmedabad', 'Barabati Stadium, Cuttack',\n",
              "       'Vidarbha Cricket Association Stadium, Nagpur',\n",
              "       'HPCA Cricket Stadium, Dharamsala',\n",
              "       'Jawaharlal Nehru Stadium, Kochi',\n",
              "       'Holkar Cricket Stadium, Indore', 'HPCA Stadium, Dharamsala',\n",
              "       'ACA-VDCA Stadium, Visakhapatnam',\n",
              "       'Subrata Roy Sahara Stadium, Pune',\n",
              "       'Raipur International Cricket Stadium, Raipur',\n",
              "       'JSCA International Cricket Stadium, Ranchi',\n",
              "       'Sheikh Zayed Stadium, Abu Dhabi', 'Sharjah Cricket Stadium',\n",
              "       'Dubai International Cricket Stadium', 'MCA Stadium, Pune',\n",
              "       'Chhattisgarh International Cricket Stadium, Raipur',\n",
              "       'Saurashtra Cricket Association Stadium, Rajkot',\n",
              "       'Maharashtra Cricket Association Stadium, Pune',\n",
              "       'Green Park Stadium, Kanpur',\n",
              "       'Shaheed Veer Narayan Singh International Stadium, Raipur',\n",
              "       'Sheikh Zayed Cricket Stadium, Abu Dhabi',\n",
              "       'Dubai International Cricket Stadium, Dubai',\n",
              "       'Sharjah Cricket Stadium, Sharjah',\n",
              "       'Narendra Modi Stadium, Ahmedabad', 'Arun Jaitley Stadium, Delhi',\n",
              "       'MCA International Stadium, Pune'], dtype=object)"
            ]
          },
          "metadata": {},
          "execution_count": 4
        }
      ]
    },
    {
      "cell_type": "code",
      "source": [
        "# d=data.groupby(['match_id','inning']).sum()['total_runs']\n",
        "# arr=[]\n",
        "# i=1\n",
        "# # for i in range(11415-1):\n",
        "# #   # arr.append(int(d[i][1]))\n",
        "# #   print(i,d[int(i+1)][1])\n",
        "# l=d.to_dict()\n",
        "# l[1,1]\n",
        "# for i in range(11415-1):\n",
        "#   # arr.append(int(d[i][1]))\n",
        "#   try:\n",
        "#     print(i,l[i+1,1])\n",
        "#   except:\n",
        "#     print('noo')"
      ],
      "metadata": {
        "id": "o-8D_0jVmPbS"
      },
      "execution_count": 5,
      "outputs": []
    },
    {
      "cell_type": "code",
      "source": [
        "# data.isna().sum()\n",
        "df=data[['Team1'\t,'Team2']]\n",
        "dfstem=data['Venue']\n",
        "dfy=data['First innings score']\n",
        "# dftsw=data['Toss winner']\n",
        "# for i in range(len(data)):\n",
        "#   if data.iloc[i,4] == data.iloc[i,6] : \n",
        "#     dftsw.iloc[i]=1\n",
        "#   else :\n",
        "#     dftsw.iloc[i]=0\n",
        "# # dftsd=data['Toss decision']\n",
        "# # dftsd.replace(['Field','Bat'],[1,2])\n",
        "# # data.drop(['Match ID','Date','Venue','Team1','Team2','Toss winner','Toss decision','Stage','First innings score','First innings wicket','Second innings score','Second innings wicket','Match winner','Won by','Margin','Player of the match','year'],axis=1)\n",
        "# dftsw"
      ],
      "metadata": {
        "id": "UimPfGLR9ghL"
      },
      "execution_count": 6,
      "outputs": []
    },
    {
      "cell_type": "code",
      "source": [
        "df['Team1'].unique()"
      ],
      "metadata": {
        "colab": {
          "base_uri": "https://localhost:8080/"
        },
        "id": "irD-Ocy6CC4g",
        "outputId": "11ff3f27-c079-4315-8c0d-de649ee26916"
      },
      "execution_count": 7,
      "outputs": [
        {
          "output_type": "execute_result",
          "data": {
            "text/plain": [
              "array(['Kolkata Knight Riders', 'Chennai Super Kings', 'Rajasthan Royals',\n",
              "       'Deccan Chargers', 'Mumbai Indians', 'Kings XI Punjab',\n",
              "       'Royal Challengers Bangalore', 'Delhi Daredevils',\n",
              "       'Kochi Tuskers Kerala', 'Pune Warriors India',\n",
              "       'Sunrisers Hyderabad', 'Rising Pune Supergiants', 'Gujarat Lions',\n",
              "       'Delhi Capitals', 'Punjab Kings', 'Lucknow Super Giants',\n",
              "       'Gujarat Titans'], dtype=object)"
            ]
          },
          "metadata": {},
          "execution_count": 7
        }
      ]
    },
    {
      "cell_type": "code",
      "source": [
        "df.replace(['Sunrisers Hyderabad', 'Mumbai Indians', 'Gujarat Lions','Gujarat Titans',\n",
        "       'Rising Pune Supergiant', 'Royal Challengers Bangalore',\n",
        "       'Kolkata Knight Riders', 'Delhi Daredevils', 'Kings XI Punjab','Punjab Kings',\n",
        "       'Chennai Super Kings', 'Rajasthan Royals', 'Deccan Chargers',\n",
        "       'Kochi Tuskers Kerala', 'Pune Warriors', 'Rising Pune Supergiants','Pune Warriors India','Lucknow Super Giants',\n",
        "       'Delhi Capitals'],['SRH','MI','GT','GT','RPS','RCB','KKR','DD','PBKS','PBKS','CSK','RR','DD','KTK','PW','RPS','PWI','LSG','DD'],inplace=True)\n",
        "df['Team1'].unique()"
      ],
      "metadata": {
        "colab": {
          "base_uri": "https://localhost:8080/"
        },
        "id": "ckMWgYq_DIcd",
        "outputId": "43eb329c-3519-44b7-ceb2-250690867490"
      },
      "execution_count": 8,
      "outputs": [
        {
          "output_type": "stream",
          "name": "stderr",
          "text": [
            "/usr/local/lib/python3.7/dist-packages/pandas/core/frame.py:5244: SettingWithCopyWarning: \n",
            "A value is trying to be set on a copy of a slice from a DataFrame\n",
            "\n",
            "See the caveats in the documentation: https://pandas.pydata.org/pandas-docs/stable/user_guide/indexing.html#returning-a-view-versus-a-copy\n",
            "  method=method,\n"
          ]
        },
        {
          "output_type": "execute_result",
          "data": {
            "text/plain": [
              "array(['KKR', 'CSK', 'RR', 'DD', 'MI', 'PBKS', 'RCB', 'KTK', 'PWI', 'SRH',\n",
              "       'RPS', 'GT', 'LSG'], dtype=object)"
            ]
          },
          "metadata": {},
          "execution_count": 8
        }
      ]
    },
    {
      "cell_type": "code",
      "source": [
        "from sklearn import preprocessing\n",
        "venuelab=LabelEncoder()\n",
        "venue=dfstem\n",
        "venue=venuelab.fit_transform(venue)\n",
        "le_name_mapping = dict(zip(venuelab.classes_, venuelab.transform(venuelab.classes_)))\n",
        "dfstem=venue\n",
        "dfy=data['First innings score']\n",
        "\n",
        "# df['Venue']=dfstem\n",
        "# df"
      ],
      "metadata": {
        "id": "zL0HCVfxGePH"
      },
      "execution_count": 9,
      "outputs": []
    },
    {
      "cell_type": "code",
      "source": [
        "df=pd.get_dummies(df,['Team1','Team2'])"
      ],
      "metadata": {
        "id": "sAApGFH7JbI9"
      },
      "execution_count": 10,
      "outputs": []
    },
    {
      "cell_type": "code",
      "source": [
        "df['Venue']= dfstem\n",
        "df\n",
        "df.to_csv('as.csv')"
      ],
      "metadata": {
        "id": "X9IwWvCHPKb8"
      },
      "execution_count": 11,
      "outputs": []
    },
    {
      "cell_type": "code",
      "source": [
        "data[\"Toss decision\"].unique()"
      ],
      "metadata": {
        "colab": {
          "base_uri": "https://localhost:8080/"
        },
        "id": "UF46CZujS07r",
        "outputId": "b5a2a087-32d9-4567-abff-6ab2350fc300"
      },
      "execution_count": 12,
      "outputs": [
        {
          "output_type": "execute_result",
          "data": {
            "text/plain": [
              "array(['Field', 'Bat', 'Group', 'Playoff', 'Final'], dtype=object)"
            ]
          },
          "metadata": {},
          "execution_count": 12
        }
      ]
    },
    {
      "cell_type": "code",
      "source": [
        "from sklearn.model_selection import train_test_split\n",
        "x_train, x_test, y_train, y_test = train_test_split(df, dfy, train_size = 0.8)\n",
        "x_test.to_csv('b.csv')"
      ],
      "metadata": {
        "id": "zIovPLmgZIqo"
      },
      "execution_count": 13,
      "outputs": []
    },
    {
      "cell_type": "code",
      "source": [
        "from sklearn.ensemble import RandomForestRegressor\n",
        "regressor = RandomForestRegressor(n_estimators = 100, random_state = 0)\n",
        "regressor.fit(df,dfy)\n",
        "pddd=regressor.predict([[0,0,1,0,0,0,0,0,0,0,0,0,0,0,0,0,0,0,1,0,0,0,0,0,0,0,45]])\n",
        "pddd"
      ],
      "metadata": {
        "colab": {
          "base_uri": "https://localhost:8080/"
        },
        "id": "knwvERoUa-IC",
        "outputId": "cff6231d-8282-4aec-ba90-ca67878d9e2d"
      },
      "execution_count": 14,
      "outputs": [
        {
          "output_type": "stream",
          "name": "stderr",
          "text": [
            "/usr/local/lib/python3.7/dist-packages/sklearn/base.py:451: UserWarning: X does not have valid feature names, but RandomForestRegressor was fitted with feature names\n",
            "  \"X does not have valid feature names, but\"\n"
          ]
        },
        {
          "output_type": "execute_result",
          "data": {
            "text/plain": [
              "array([167.17269336])"
            ]
          },
          "metadata": {},
          "execution_count": 14
        }
      ]
    },
    {
      "cell_type": "code",
      "source": [
        "y_test"
      ],
      "metadata": {
        "colab": {
          "base_uri": "https://localhost:8080/"
        },
        "id": "cUwHivqKcFbc",
        "outputId": "dfa6cc44-f9d7-40cf-a3bb-dc5f344221c5"
      },
      "execution_count": 15,
      "outputs": [
        {
          "output_type": "execute_result",
          "data": {
            "text/plain": [
              "448    163.0\n",
              "216    156.0\n",
              "14     178.0\n",
              "108    116.0\n",
              "450    226.0\n",
              "       ...  \n",
              "766    158.0\n",
              "779    114.0\n",
              "719    213.0\n",
              "552    103.0\n",
              "396    133.0\n",
              "Name: First innings score, Length: 187, dtype: float64"
            ]
          },
          "metadata": {},
          "execution_count": 15
        }
      ]
    },
    {
      "cell_type": "code",
      "source": [
        "import pickle\n",
        "with open('model_pkl', 'wb') as files:\n",
        "    pickle.dump(regressor, files)"
      ],
      "metadata": {
        "id": "DS34CmSPcIwz"
      },
      "execution_count": 16,
      "outputs": []
    },
    {
      "cell_type": "code",
      "source": [
        "from joblib import dump\n",
        "dump(regressor,'model.joblib')"
      ],
      "metadata": {
        "colab": {
          "base_uri": "https://localhost:8080/"
        },
        "id": "YkBNuQ09Vu31",
        "outputId": "f71e870c-33f9-419a-c659-7ce45f55c412"
      },
      "execution_count": 17,
      "outputs": [
        {
          "output_type": "execute_result",
          "data": {
            "text/plain": [
              "['model.joblib']"
            ]
          },
          "metadata": {},
          "execution_count": 17
        }
      ]
    },
    {
      "cell_type": "code",
      "source": [
        "le_name_mapping"
      ],
      "metadata": {
        "colab": {
          "base_uri": "https://localhost:8080/"
        },
        "id": "WrH7_JfYqqAr",
        "outputId": "9fa3be7b-5308-48b9-e61e-fcb4851bb233"
      },
      "execution_count": 18,
      "outputs": [
        {
          "output_type": "execute_result",
          "data": {
            "text/plain": [
              "{'ACA-VDCA Stadium, Visakhapatnam': 0,\n",
              " 'Arun Jaitley Stadium, Delhi': 1,\n",
              " 'Barabati Stadium, Cuttack': 2,\n",
              " 'Brabourne Stadium, Mumbai': 3,\n",
              " 'Buffalo Park, East London': 4,\n",
              " 'Chhattisgarh International Cricket Stadium, Raipur': 5,\n",
              " 'DY Patil Stadium, Mumbai': 6,\n",
              " 'DY Patil Stadium, Navi Mumbai': 7,\n",
              " 'De Beers Diamond Oval, Kimberley': 8,\n",
              " 'Dubai International Cricket Stadium': 9,\n",
              " 'Dubai International Cricket Stadium, Dubai': 10,\n",
              " 'Eden Gardens, Kolkata': 11,\n",
              " 'Feroz Shah Kotla, Delhi': 12,\n",
              " 'Green Park Stadium, Kanpur': 13,\n",
              " 'HPCA Cricket Stadium, Dharamsala': 14,\n",
              " 'HPCA Stadium, Dharamsala': 15,\n",
              " 'Holkar Cricket Stadium, Indore': 16,\n",
              " 'JSCA International Cricket Stadium, Ranchi': 17,\n",
              " 'Jawaharlal Nehru Stadium, Kochi': 18,\n",
              " 'Kingsmead, Durban': 19,\n",
              " 'M. A Chidambaram Stadium, Chennai': 20,\n",
              " 'M. A. Chidambaram Stadium, Chennai': 21,\n",
              " 'M. Chinnaswamy Stadium, Bangalore': 22,\n",
              " 'MCA International Stadium, Pune': 23,\n",
              " 'MCA Stadium, Pune': 24,\n",
              " 'Maharashtra Cricket Association Stadium, Pune': 25,\n",
              " 'Narendra Modi Stadium, Ahmedabad': 26,\n",
              " 'New Wanderers Stadium, Johannesburg': 27,\n",
              " 'Newlands, Cape Town': 28,\n",
              " 'OUTsurance Oval, Bloemfontein': 29,\n",
              " 'Punjab Cricket Association Stadium, Mohali': 30,\n",
              " 'Raipur International Cricket Stadium, Raipur': 31,\n",
              " 'Rajiv Gandhi International Cricket Stadium, Hyderabad': 32,\n",
              " 'Sardar Patel Stadium, Ahmedabad': 33,\n",
              " 'Saurashtra Cricket Association Stadium, Rajkot': 34,\n",
              " 'Sawai Mansingh Stadium, Jaipur': 35,\n",
              " 'Shaheed Veer Narayan Singh International Stadium, Raipur': 36,\n",
              " 'Sharjah Cricket Stadium': 37,\n",
              " 'Sharjah Cricket Stadium, Sharjah': 38,\n",
              " 'Sheikh Zayed Cricket Stadium, Abu Dhabi': 39,\n",
              " 'Sheikh Zayed Stadium, Abu Dhabi': 40,\n",
              " \"St George's Park, Port Elizabeth\": 41,\n",
              " 'Subrata Roy Sahara Stadium, Pune': 42,\n",
              " 'SuperSport Park, Centurion': 43,\n",
              " 'Vidarbha Cricket Association Stadium, Nagpur': 44,\n",
              " 'Wankhede Stadium, Mumbai': 45}"
            ]
          },
          "metadata": {},
          "execution_count": 18
        }
      ]
    },
    {
      "cell_type": "code",
      "source": [
        ""
      ],
      "metadata": {
        "id": "8MngutEA2nIJ"
      },
      "execution_count": 18,
      "outputs": []
    }
  ]
}