{
  "cells": [
    {
      "cell_type": "markdown",
      "metadata": {
        "id": "view-in-github",
        "colab_type": "text"
      },
      "source": [
        "<a href=\"https://colab.research.google.com/github/AkshayDawkhar/IPL_predictionsDjango/blob/main/match_winner.ipynb\" target=\"_parent\"><img src=\"https://colab.research.google.com/assets/colab-badge.svg\" alt=\"Open In Colab\"/></a>"
      ]
    },
    {
      "cell_type": "code",
      "execution_count": 21,
      "metadata": {
        "id": "DTJ608dAFoF6"
      },
      "outputs": [],
      "source": [
        "import pandas as pd\n",
        "import numpy as np\n",
        "import sklearn\n",
        "from sklearn.preprocessing import LabelEncoder"
      ]
    },
    {
      "cell_type": "code",
      "source": [
        ""
      ],
      "metadata": {
        "id": "Jt5jC8wsa_O0"
      },
      "execution_count": 21,
      "outputs": []
    },
    {
      "cell_type": "code",
      "execution_count": 22,
      "metadata": {
        "id": "hudt5nKlFqTH"
      },
      "outputs": [],
      "source": [
        "data = pd.read_csv(\"/content/drive/MyDrive/ml/matches.csv\")"
      ]
    },
    {
      "cell_type": "markdown",
      "metadata": {
        "id": "ylAyt1M3W_8G"
      },
      "source": [
        "Reading CSV from drive"
      ]
    },
    {
      "cell_type": "code",
      "execution_count": 23,
      "metadata": {
        "id": "ZGfoaHUJFxIO"
      },
      "outputs": [],
      "source": [
        "data = data.iloc[:,:-1]\n",
        "data.dropna(inplace=True)"
      ]
    },
    {
      "cell_type": "markdown",
      "metadata": {
        "id": "FLp8W7WVXLEh"
      },
      "source": [
        " removing umpire 3\n",
        "Having null value"
      ]
    },
    {
      "cell_type": "code",
      "execution_count": 24,
      "metadata": {
        "id": "ZeL_SJhZF4ce"
      },
      "outputs": [],
      "source": [
        "data.replace(['Deccan Chargers','Delhi Daredevils','Rising Pune Supergiant','Rising Pune Supergiants'],['Delhi Capitals','Sunrisers Hyderabad','Pune Warriors','Pune Warriors'],inplace=True)"
      ]
    },
    {
      "cell_type": "markdown",
      "metadata": {
        "id": "lDXXGBWgXkES"
      },
      "source": [
        "Replacing the team names"
      ]
    },
    {
      "cell_type": "code",
      "execution_count": 25,
      "metadata": {
        "id": "qMQYcLhwF6zU"
      },
      "outputs": [],
      "source": [
        "venuelab=LabelEncoder()\n",
        "venue=data['venue']\n",
        "venue=venuelab.fit_transform(venue)\n",
        "le_name_mapping = dict(zip(venuelab.classes_, venuelab.transform(venuelab.classes_)))\n",
        "# print(le_name_mapping)"
      ]
    },
    {
      "cell_type": "markdown",
      "metadata": {
        "id": "nQrJ0lqOXuDm"
      },
      "source": [
        "Labeling vanue and saving the dictionary"
      ]
    },
    {
      "cell_type": "code",
      "execution_count": 26,
      "metadata": {
        "id": "ULm6K2kQGe04"
      },
      "outputs": [],
      "source": [
        "data.drop(['win_by_runs','win_by_wickets','id','season','city','venue','date','player_of_match','umpire1','umpire2','dl_applied','result'], axis=1,inplace= True)"
      ]
    },
    {
      "cell_type": "markdown",
      "metadata": {
        "id": "caOYqnCMX20_"
      },
      "source": [
        "Droping unnecessary columes"
      ]
    },
    {
      "cell_type": "code",
      "execution_count": 27,
      "metadata": {
        "id": "g8EvfkXyGKMA",
        "colab": {
          "base_uri": "https://localhost:8080/"
        },
        "outputId": "ed2f35fa-0e22-46d4-c262-2cd3c43bf370"
      },
      "outputs": [
        {
          "output_type": "stream",
          "name": "stderr",
          "text": [
            "/usr/local/lib/python3.7/dist-packages/pandas/core/indexing.py:1732: SettingWithCopyWarning: \n",
            "A value is trying to be set on a copy of a slice from a DataFrame\n",
            "\n",
            "See the caveats in the documentation: https://pandas.pydata.org/pandas-docs/stable/user_guide/indexing.html#returning-a-view-versus-a-copy\n",
            "  self._setitem_single_block(indexer, value, name)\n"
          ]
        }
      ],
      "source": [
        "data['toss_decision'] = data['toss_decision'].replace(['field','bat'],[1,0])\n",
        "x = data.drop([\"winner\"], axis=1)\n",
        "y = data[\"winner\"]\n",
        "\n",
        "for i in range(len(y)):\n",
        "  #  print(x.iloc[i,0]==y.iloc[i])\n",
        "   if x.iloc[i,0]== y.iloc[i]:\n",
        "      y.iloc[i] = 0\n",
        "  #  elif x.iloc[i,1]== y.iloc[i]:\n",
        "   else:\n",
        "      y.iloc[i] = 1\n",
        "   if x.iloc[i,0]==  x.iloc[i,2]:\n",
        "      x.iloc[i,2] = 0\n",
        "  #  elif x.iloc[i,1]== y.iloc[i]:\n",
        "   else:\n",
        "      x.iloc[i,2] = 1\n",
        "  #  if  x.iloc[i,3] == 'field':\n",
        "# x.iloc[1,1] == 'as'\n",
        "# x.iloc[1,1]\n",
        "toss_winn=x.iloc[:,2]\n",
        "toss_deci=x.iloc[:,3]\n",
        "x.drop(['toss_winner','toss_decision'],axis=1,inplace=True)"
      ]
    },
    {
      "cell_type": "code",
      "execution_count": 28,
      "metadata": {
        "id": "V56huHBsHG7K"
      },
      "outputs": [],
      "source": [
        "X = pd.get_dummies(x, [\"team1\",\"team2\"])\n",
        "X['venue']=venue\n",
        "X['toss_winner']=toss_winn\n",
        "X['toss_decision']=toss_deci\n",
        "le = LabelEncoder()\n",
        "y = le.fit_transform(y)"
      ]
    },
    {
      "cell_type": "code",
      "execution_count": 29,
      "metadata": {
        "id": "XfRe-NVMHIVM"
      },
      "outputs": [],
      "source": [
        "from sklearn.model_selection import train_test_split\n",
        "x_train, x_test, y_train, y_test = train_test_split(X, y, train_size = 0.8)"
      ]
    },
    {
      "cell_type": "code",
      "execution_count": 30,
      "metadata": {
        "colab": {
          "base_uri": "https://localhost:8080/"
        },
        "id": "4ZyQcU_4HUgG",
        "outputId": "93bbbd8f-8c9e-4e50-d05f-dea1632d3d9c"
      },
      "outputs": [
        {
          "output_type": "execute_result",
          "data": {
            "text/plain": [
              "RandomForestClassifier(min_samples_split=3, n_estimators=400)"
            ]
          },
          "metadata": {},
          "execution_count": 30
        }
      ],
      "source": [
        "from sklearn.ensemble import RandomForestClassifier\n",
        "model = RandomForestClassifier(n_estimators=400,min_samples_split=3,\n",
        "                               max_features = \"auto\")\n",
        "model.fit(X, y)"
      ]
    },
    {
      "cell_type": "code",
      "execution_count": 31,
      "metadata": {
        "colab": {
          "base_uri": "https://localhost:8080/"
        },
        "id": "37IbBXECHwsy",
        "outputId": "9cf5938a-2ea3-474b-ee62-3635e38eac34"
      },
      "outputs": [
        {
          "output_type": "stream",
          "name": "stdout",
          "text": [
            "MI\n"
          ]
        },
        {
          "output_type": "stream",
          "name": "stderr",
          "text": [
            "/usr/local/lib/python3.7/dist-packages/sklearn/base.py:451: UserWarning: X does not have valid feature names, but RandomForestClassifier was fitted with feature names\n",
            "  \"X does not have valid feature names, but\"\n"
          ]
        }
      ],
      "source": [
        "def pr_win(team1,team2,tosw,tosd,stem):\n",
        "  arr=[0,0,0,0,0,0,0,0,0,0,0,0,0,0,0,0,0,0,0,0,0,0,0,0,0]\n",
        "  teamcode={'CSK':0, 'DD':1, 'GL':2, 'KBKP':3, 'KTK':4, 'KKR':5, 'MI':6, 'PW':7, 'RR':8, 'RCB':9,\n",
        "       'SRH':10,'field':1, 'bat':0}\n",
        "  arr[23]=tosw\n",
        "  arr[24]=tosd\n",
        "  arr[22]=le_name_mapping[stem]\n",
        "  arr[(11+teamcode[team2])]=1\n",
        "  arr[(teamcode[team1])]=1\n",
        "  pred=np.array(arr)\n",
        "  ass=model.predict(pred.reshape(1, -1))\n",
        "  if ass == 0:\n",
        "    print(team1)\n",
        "  else:\n",
        "    print(team2)\n",
        "\n",
        "pr_win('RCB','MI',0,1,'Wankhede Stadium')"
      ]
    },
    {
      "cell_type": "code",
      "source": [
        "le_name_mapping"
      ],
      "metadata": {
        "colab": {
          "base_uri": "https://localhost:8080/"
        },
        "id": "-ZAhkEe0NqDo",
        "outputId": "0dc3fd5a-292f-4159-9e8a-1006a20fd42e"
      },
      "execution_count": 42,
      "outputs": [
        {
          "output_type": "execute_result",
          "data": {
            "text/plain": [
              "{'ACA-VDCA Stadium': 0,\n",
              " 'Barabati Stadium': 1,\n",
              " 'Brabourne Stadium': 2,\n",
              " 'Buffalo Park': 3,\n",
              " 'De Beers Diamond Oval': 4,\n",
              " 'Dr DY Patil Sports Academy': 5,\n",
              " 'Dr. Y.S. Rajasekhara Reddy ACA-VDCA Cricket Stadium': 6,\n",
              " 'Eden Gardens': 7,\n",
              " 'Feroz Shah Kotla': 8,\n",
              " 'Feroz Shah Kotla Ground': 9,\n",
              " 'Green Park': 10,\n",
              " 'Himachal Pradesh Cricket Association Stadium': 11,\n",
              " 'Holkar Cricket Stadium': 12,\n",
              " 'IS Bindra Stadium': 13,\n",
              " 'JSCA International Stadium Complex': 14,\n",
              " 'Kingsmead': 15,\n",
              " 'M Chinnaswamy Stadium': 16,\n",
              " 'M. A. Chidambaram Stadium': 17,\n",
              " 'M. Chinnaswamy Stadium': 18,\n",
              " 'MA Chidambaram Stadium, Chepauk': 19,\n",
              " 'Maharashtra Cricket Association Stadium': 20,\n",
              " 'Nehru Stadium': 21,\n",
              " 'New Wanderers Stadium': 22,\n",
              " 'Newlands': 23,\n",
              " 'OUTsurance Oval': 24,\n",
              " 'Punjab Cricket Association IS Bindra Stadium, Mohali': 25,\n",
              " 'Punjab Cricket Association Stadium, Mohali': 26,\n",
              " 'Rajiv Gandhi International Stadium, Uppal': 27,\n",
              " 'Rajiv Gandhi Intl. Cricket Stadium': 28,\n",
              " 'Sardar Patel Stadium, Motera': 29,\n",
              " 'Saurashtra Cricket Association Stadium': 30,\n",
              " 'Sawai Mansingh Stadium': 31,\n",
              " 'Shaheed Veer Narayan Singh International Stadium': 32,\n",
              " 'Sharjah Cricket Stadium': 33,\n",
              " 'Sheikh Zayed Stadium': 34,\n",
              " \"St George's Park\": 35,\n",
              " 'Subrata Roy Sahara Stadium': 36,\n",
              " 'SuperSport Park': 37,\n",
              " 'Vidarbha Cricket Association Stadium, Jamtha': 38,\n",
              " 'Wankhede Stadium': 39}"
            ]
          },
          "metadata": {},
          "execution_count": 42
        }
      ]
    },
    {
      "cell_type": "code",
      "source": [
        "toss_x=np.array(X.drop(['toss_winner','toss_decision'],axis=1))\n",
        "toss_y=X['toss_winner'].astype('int')\n",
        "\n",
        "from sklearn.model_selection import train_test_split\n",
        "tossx_train, tossx_test, tossy_train, tossy_test = train_test_split(toss_x, toss_y, train_size = 0.8)"
      ],
      "metadata": {
        "id": "EDUqbHwvbHuw"
      },
      "execution_count": 33,
      "outputs": []
    },
    {
      "cell_type": "code",
      "source": [
        "modeltoss_win=RandomForestClassifier(n_estimators=400,min_samples_split=3,\n",
        "                               max_features = \"auto\")\n",
        "modeltoss_win.fit(toss_x,toss_y)\n",
        "# toss_pred=modeltoss_win.predict(tossx_test)"
      ],
      "metadata": {
        "colab": {
          "base_uri": "https://localhost:8080/"
        },
        "id": "kBeGZbn8h2iZ",
        "outputId": "aaca9c7e-91ac-4611-d0c6-3c586cb5fc46"
      },
      "execution_count": 34,
      "outputs": [
        {
          "output_type": "execute_result",
          "data": {
            "text/plain": [
              "RandomForestClassifier(min_samples_split=3, n_estimators=400)"
            ]
          },
          "metadata": {},
          "execution_count": 34
        }
      ]
    },
    {
      "cell_type": "code",
      "source": [
        "from sklearn.neural_network import MLPClassifier\n",
        "#Initializing the MLPClassifier\n",
        "classifier = MLPClassifier(hidden_layer_sizes=(150,100,50), max_iter=400,activation = 'relu',solver='adam',random_state=1)\n",
        "classifier.fit(tossx_train, tossy_train)\n",
        "Rtoss = classifier.predict(tossx_test)"
      ],
      "metadata": {
        "id": "MYH26TMph9m7"
      },
      "execution_count": 35,
      "outputs": []
    },
    {
      "cell_type": "code",
      "source": [
        "def toss_win(team1,team2,stem):\n",
        "  arr=[0,0,0,0,0,0,0,0,0,0,0,0,0,0,0,0,0,0,0,0,0,0,0]\n",
        "  teamcode={'CSK':0, 'DD':1, 'GL':2, 'KBKP':3, 'KTK':4, 'KKR':5, 'MI':6, 'PW':7, 'RR':8, 'RCB':9,\n",
        "       'SRH':10,'field':1, 'bat':0}\n",
        "  arr[22]=le_name_mapping[stem]\n",
        "  arr[(11+teamcode[team2])]=1\n",
        "  arr[(teamcode[team1])]=1\n",
        "  pred=np.array(arr)\n",
        "  ass=classifier.predict(pred.reshape(1, -1))\n",
        "  if ass == 0:\n",
        "    print(team1)\n",
        "  else:\n",
        "    print(team2)\n",
        "toss_win('MI','CSK','Holkar Cricket Stadium')"
      ],
      "metadata": {
        "colab": {
          "base_uri": "https://localhost:8080/"
        },
        "id": "x2vPTnHfiu8b",
        "outputId": "d6e75769-e0e0-4d61-efff-9470078f96de"
      },
      "execution_count": 36,
      "outputs": [
        {
          "output_type": "stream",
          "name": "stdout",
          "text": [
            "CSK\n"
          ]
        }
      ]
    },
    {
      "cell_type": "code",
      "source": [
        "from joblib import dump\n",
        "dump(classifier,'modeltoswin.joblib')"
      ],
      "metadata": {
        "colab": {
          "base_uri": "https://localhost:8080/"
        },
        "id": "svt_VLQSiWwy",
        "outputId": "47829c5f-a2f8-4394-c73d-4ebe8b3d839d"
      },
      "execution_count": 50,
      "outputs": [
        {
          "output_type": "execute_result",
          "data": {
            "text/plain": [
              "['modeltoswin.joblib']"
            ]
          },
          "metadata": {},
          "execution_count": 50
        }
      ]
    },
    {
      "cell_type": "code",
      "source": [
        "toss_dicy=X.iloc[:,-1]\n",
        "toss_dicX=X.drop(['toss_decision'],axis=1)\n",
        "toss_dicy"
      ],
      "metadata": {
        "colab": {
          "base_uri": "https://localhost:8080/"
        },
        "id": "5no_LnzK4yeF",
        "outputId": "ab64660a-e771-4137-e35e-212ae839e12d"
      },
      "execution_count": 45,
      "outputs": [
        {
          "output_type": "execute_result",
          "data": {
            "text/plain": [
              "0      1\n",
              "1      1\n",
              "2      1\n",
              "3      1\n",
              "5      1\n",
              "      ..\n",
              "750    1\n",
              "751    1\n",
              "752    0\n",
              "754    1\n",
              "755    0\n",
              "Name: toss_decision, Length: 743, dtype: int64"
            ]
          },
          "metadata": {},
          "execution_count": 45
        }
      ]
    },
    {
      "cell_type": "code",
      "source": [
        "model_tossdic=RandomForestClassifier(n_estimators=400,min_samples_split=3,max_features = \"auto\")"
      ],
      "metadata": {
        "id": "0CkMqYaM51st"
      },
      "execution_count": 46,
      "outputs": []
    },
    {
      "cell_type": "code",
      "source": [
        "model_tossdic.fit(toss_dicX,toss_dicy)\n",
        "toss_dicX.to_csv('a.csv')\n",
        "m=model_tossdic.predict([[0,0,1,0,0,0,0,0,0,0,0,0,0,0,0,0,1,0,0,0,0,0,30,1]])\n",
        "m"
      ],
      "metadata": {
        "colab": {
          "base_uri": "https://localhost:8080/"
        },
        "id": "7J8Gw7gUVk6I",
        "outputId": "436b98cb-383d-4995-dac2-2da75ceae48b"
      },
      "execution_count": 47,
      "outputs": [
        {
          "output_type": "stream",
          "name": "stderr",
          "text": [
            "/usr/local/lib/python3.7/dist-packages/sklearn/base.py:451: UserWarning: X does not have valid feature names, but RandomForestClassifier was fitted with feature names\n",
            "  \"X does not have valid feature names, but\"\n"
          ]
        },
        {
          "output_type": "execute_result",
          "data": {
            "text/plain": [
              "array([1])"
            ]
          },
          "metadata": {},
          "execution_count": 47
        }
      ]
    },
    {
      "cell_type": "code",
      "source": [
        "toss_dicX"
      ],
      "metadata": {
        "id": "5QonxRx6ZQ_8",
        "colab": {
          "base_uri": "https://localhost:8080/",
          "height": 522
        },
        "outputId": "30ffb718-4e96-4f92-972b-30b9a72fc5d2"
      },
      "execution_count": 48,
      "outputs": [
        {
          "output_type": "execute_result",
          "data": {
            "text/plain": [
              "     team1_Chennai Super Kings  team1_Delhi Capitals  team1_Gujarat Lions  \\\n",
              "0                            0                     0                    0   \n",
              "1                            0                     0                    0   \n",
              "2                            0                     0                    1   \n",
              "3                            0                     0                    0   \n",
              "5                            0                     0                    1   \n",
              "..                         ...                   ...                  ...   \n",
              "750                          1                     0                    0   \n",
              "751                          0                     0                    0   \n",
              "752                          1                     0                    0   \n",
              "754                          0                     1                    0   \n",
              "755                          0                     0                    0   \n",
              "\n",
              "     team1_Kings XI Punjab  team1_Kochi Tuskers Kerala  \\\n",
              "0                        0                           0   \n",
              "1                        0                           0   \n",
              "2                        0                           0   \n",
              "3                        0                           0   \n",
              "5                        0                           0   \n",
              "..                     ...                         ...   \n",
              "750                      0                           0   \n",
              "751                      0                           0   \n",
              "752                      0                           0   \n",
              "754                      0                           0   \n",
              "755                      0                           0   \n",
              "\n",
              "     team1_Kolkata Knight Riders  team1_Mumbai Indians  team1_Pune Warriors  \\\n",
              "0                              0                     0                    0   \n",
              "1                              0                     1                    0   \n",
              "2                              0                     0                    0   \n",
              "3                              0                     0                    1   \n",
              "5                              0                     0                    0   \n",
              "..                           ...                   ...                  ...   \n",
              "750                            0                     0                    0   \n",
              "751                            1                     0                    0   \n",
              "752                            0                     0                    0   \n",
              "754                            0                     0                    0   \n",
              "755                            0                     1                    0   \n",
              "\n",
              "     team1_Rajasthan Royals  team1_Royal Challengers Bangalore  ...  \\\n",
              "0                         0                                  0  ...   \n",
              "1                         0                                  0  ...   \n",
              "2                         0                                  0  ...   \n",
              "3                         0                                  0  ...   \n",
              "5                         0                                  0  ...   \n",
              "..                      ...                                ...  ...   \n",
              "750                       0                                  0  ...   \n",
              "751                       0                                  0  ...   \n",
              "752                       0                                  0  ...   \n",
              "754                       0                                  0  ...   \n",
              "755                       0                                  0  ...   \n",
              "\n",
              "     team2_Kings XI Punjab  team2_Kochi Tuskers Kerala  \\\n",
              "0                        0                           0   \n",
              "1                        0                           0   \n",
              "2                        0                           0   \n",
              "3                        1                           0   \n",
              "5                        0                           0   \n",
              "..                     ...                         ...   \n",
              "750                      1                           0   \n",
              "751                      0                           0   \n",
              "752                      0                           0   \n",
              "754                      0                           0   \n",
              "755                      0                           0   \n",
              "\n",
              "     team2_Kolkata Knight Riders  team2_Mumbai Indians  team2_Pune Warriors  \\\n",
              "0                              0                     0                    0   \n",
              "1                              0                     0                    1   \n",
              "2                              1                     0                    0   \n",
              "3                              0                     0                    0   \n",
              "5                              0                     0                    0   \n",
              "..                           ...                   ...                  ...   \n",
              "750                            0                     0                    0   \n",
              "751                            0                     1                    0   \n",
              "752                            0                     1                    0   \n",
              "754                            0                     0                    0   \n",
              "755                            0                     0                    0   \n",
              "\n",
              "     team2_Rajasthan Royals  team2_Royal Challengers Bangalore  \\\n",
              "0                         0                                  1   \n",
              "1                         0                                  0   \n",
              "2                         0                                  0   \n",
              "3                         0                                  0   \n",
              "5                         0                                  0   \n",
              "..                      ...                                ...   \n",
              "750                       0                                  0   \n",
              "751                       0                                  0   \n",
              "752                       0                                  0   \n",
              "754                       0                                  0   \n",
              "755                       0                                  0   \n",
              "\n",
              "     team2_Sunrisers Hyderabad  venue  toss_winner  \n",
              "0                            0     27            1  \n",
              "1                            0     20            1  \n",
              "2                            0     30            1  \n",
              "3                            0     12            1  \n",
              "5                            1     27            1  \n",
              "..                         ...    ...          ...  \n",
              "750                          0     13            1  \n",
              "751                          0     39            1  \n",
              "752                          0     17            0  \n",
              "754                          0      0            1  \n",
              "755                          0     28            0  \n",
              "\n",
              "[743 rows x 24 columns]"
            ],
            "text/html": [
              "\n",
              "  <div id=\"df-8500d93a-fe7a-43c6-b9bb-95559fc27970\">\n",
              "    <div class=\"colab-df-container\">\n",
              "      <div>\n",
              "<style scoped>\n",
              "    .dataframe tbody tr th:only-of-type {\n",
              "        vertical-align: middle;\n",
              "    }\n",
              "\n",
              "    .dataframe tbody tr th {\n",
              "        vertical-align: top;\n",
              "    }\n",
              "\n",
              "    .dataframe thead th {\n",
              "        text-align: right;\n",
              "    }\n",
              "</style>\n",
              "<table border=\"1\" class=\"dataframe\">\n",
              "  <thead>\n",
              "    <tr style=\"text-align: right;\">\n",
              "      <th></th>\n",
              "      <th>team1_Chennai Super Kings</th>\n",
              "      <th>team1_Delhi Capitals</th>\n",
              "      <th>team1_Gujarat Lions</th>\n",
              "      <th>team1_Kings XI Punjab</th>\n",
              "      <th>team1_Kochi Tuskers Kerala</th>\n",
              "      <th>team1_Kolkata Knight Riders</th>\n",
              "      <th>team1_Mumbai Indians</th>\n",
              "      <th>team1_Pune Warriors</th>\n",
              "      <th>team1_Rajasthan Royals</th>\n",
              "      <th>team1_Royal Challengers Bangalore</th>\n",
              "      <th>...</th>\n",
              "      <th>team2_Kings XI Punjab</th>\n",
              "      <th>team2_Kochi Tuskers Kerala</th>\n",
              "      <th>team2_Kolkata Knight Riders</th>\n",
              "      <th>team2_Mumbai Indians</th>\n",
              "      <th>team2_Pune Warriors</th>\n",
              "      <th>team2_Rajasthan Royals</th>\n",
              "      <th>team2_Royal Challengers Bangalore</th>\n",
              "      <th>team2_Sunrisers Hyderabad</th>\n",
              "      <th>venue</th>\n",
              "      <th>toss_winner</th>\n",
              "    </tr>\n",
              "  </thead>\n",
              "  <tbody>\n",
              "    <tr>\n",
              "      <th>0</th>\n",
              "      <td>0</td>\n",
              "      <td>0</td>\n",
              "      <td>0</td>\n",
              "      <td>0</td>\n",
              "      <td>0</td>\n",
              "      <td>0</td>\n",
              "      <td>0</td>\n",
              "      <td>0</td>\n",
              "      <td>0</td>\n",
              "      <td>0</td>\n",
              "      <td>...</td>\n",
              "      <td>0</td>\n",
              "      <td>0</td>\n",
              "      <td>0</td>\n",
              "      <td>0</td>\n",
              "      <td>0</td>\n",
              "      <td>0</td>\n",
              "      <td>1</td>\n",
              "      <td>0</td>\n",
              "      <td>27</td>\n",
              "      <td>1</td>\n",
              "    </tr>\n",
              "    <tr>\n",
              "      <th>1</th>\n",
              "      <td>0</td>\n",
              "      <td>0</td>\n",
              "      <td>0</td>\n",
              "      <td>0</td>\n",
              "      <td>0</td>\n",
              "      <td>0</td>\n",
              "      <td>1</td>\n",
              "      <td>0</td>\n",
              "      <td>0</td>\n",
              "      <td>0</td>\n",
              "      <td>...</td>\n",
              "      <td>0</td>\n",
              "      <td>0</td>\n",
              "      <td>0</td>\n",
              "      <td>0</td>\n",
              "      <td>1</td>\n",
              "      <td>0</td>\n",
              "      <td>0</td>\n",
              "      <td>0</td>\n",
              "      <td>20</td>\n",
              "      <td>1</td>\n",
              "    </tr>\n",
              "    <tr>\n",
              "      <th>2</th>\n",
              "      <td>0</td>\n",
              "      <td>0</td>\n",
              "      <td>1</td>\n",
              "      <td>0</td>\n",
              "      <td>0</td>\n",
              "      <td>0</td>\n",
              "      <td>0</td>\n",
              "      <td>0</td>\n",
              "      <td>0</td>\n",
              "      <td>0</td>\n",
              "      <td>...</td>\n",
              "      <td>0</td>\n",
              "      <td>0</td>\n",
              "      <td>1</td>\n",
              "      <td>0</td>\n",
              "      <td>0</td>\n",
              "      <td>0</td>\n",
              "      <td>0</td>\n",
              "      <td>0</td>\n",
              "      <td>30</td>\n",
              "      <td>1</td>\n",
              "    </tr>\n",
              "    <tr>\n",
              "      <th>3</th>\n",
              "      <td>0</td>\n",
              "      <td>0</td>\n",
              "      <td>0</td>\n",
              "      <td>0</td>\n",
              "      <td>0</td>\n",
              "      <td>0</td>\n",
              "      <td>0</td>\n",
              "      <td>1</td>\n",
              "      <td>0</td>\n",
              "      <td>0</td>\n",
              "      <td>...</td>\n",
              "      <td>1</td>\n",
              "      <td>0</td>\n",
              "      <td>0</td>\n",
              "      <td>0</td>\n",
              "      <td>0</td>\n",
              "      <td>0</td>\n",
              "      <td>0</td>\n",
              "      <td>0</td>\n",
              "      <td>12</td>\n",
              "      <td>1</td>\n",
              "    </tr>\n",
              "    <tr>\n",
              "      <th>5</th>\n",
              "      <td>0</td>\n",
              "      <td>0</td>\n",
              "      <td>1</td>\n",
              "      <td>0</td>\n",
              "      <td>0</td>\n",
              "      <td>0</td>\n",
              "      <td>0</td>\n",
              "      <td>0</td>\n",
              "      <td>0</td>\n",
              "      <td>0</td>\n",
              "      <td>...</td>\n",
              "      <td>0</td>\n",
              "      <td>0</td>\n",
              "      <td>0</td>\n",
              "      <td>0</td>\n",
              "      <td>0</td>\n",
              "      <td>0</td>\n",
              "      <td>0</td>\n",
              "      <td>1</td>\n",
              "      <td>27</td>\n",
              "      <td>1</td>\n",
              "    </tr>\n",
              "    <tr>\n",
              "      <th>...</th>\n",
              "      <td>...</td>\n",
              "      <td>...</td>\n",
              "      <td>...</td>\n",
              "      <td>...</td>\n",
              "      <td>...</td>\n",
              "      <td>...</td>\n",
              "      <td>...</td>\n",
              "      <td>...</td>\n",
              "      <td>...</td>\n",
              "      <td>...</td>\n",
              "      <td>...</td>\n",
              "      <td>...</td>\n",
              "      <td>...</td>\n",
              "      <td>...</td>\n",
              "      <td>...</td>\n",
              "      <td>...</td>\n",
              "      <td>...</td>\n",
              "      <td>...</td>\n",
              "      <td>...</td>\n",
              "      <td>...</td>\n",
              "      <td>...</td>\n",
              "    </tr>\n",
              "    <tr>\n",
              "      <th>750</th>\n",
              "      <td>1</td>\n",
              "      <td>0</td>\n",
              "      <td>0</td>\n",
              "      <td>0</td>\n",
              "      <td>0</td>\n",
              "      <td>0</td>\n",
              "      <td>0</td>\n",
              "      <td>0</td>\n",
              "      <td>0</td>\n",
              "      <td>0</td>\n",
              "      <td>...</td>\n",
              "      <td>1</td>\n",
              "      <td>0</td>\n",
              "      <td>0</td>\n",
              "      <td>0</td>\n",
              "      <td>0</td>\n",
              "      <td>0</td>\n",
              "      <td>0</td>\n",
              "      <td>0</td>\n",
              "      <td>13</td>\n",
              "      <td>1</td>\n",
              "    </tr>\n",
              "    <tr>\n",
              "      <th>751</th>\n",
              "      <td>0</td>\n",
              "      <td>0</td>\n",
              "      <td>0</td>\n",
              "      <td>0</td>\n",
              "      <td>0</td>\n",
              "      <td>1</td>\n",
              "      <td>0</td>\n",
              "      <td>0</td>\n",
              "      <td>0</td>\n",
              "      <td>0</td>\n",
              "      <td>...</td>\n",
              "      <td>0</td>\n",
              "      <td>0</td>\n",
              "      <td>0</td>\n",
              "      <td>1</td>\n",
              "      <td>0</td>\n",
              "      <td>0</td>\n",
              "      <td>0</td>\n",
              "      <td>0</td>\n",
              "      <td>39</td>\n",
              "      <td>1</td>\n",
              "    </tr>\n",
              "    <tr>\n",
              "      <th>752</th>\n",
              "      <td>1</td>\n",
              "      <td>0</td>\n",
              "      <td>0</td>\n",
              "      <td>0</td>\n",
              "      <td>0</td>\n",
              "      <td>0</td>\n",
              "      <td>0</td>\n",
              "      <td>0</td>\n",
              "      <td>0</td>\n",
              "      <td>0</td>\n",
              "      <td>...</td>\n",
              "      <td>0</td>\n",
              "      <td>0</td>\n",
              "      <td>0</td>\n",
              "      <td>1</td>\n",
              "      <td>0</td>\n",
              "      <td>0</td>\n",
              "      <td>0</td>\n",
              "      <td>0</td>\n",
              "      <td>17</td>\n",
              "      <td>0</td>\n",
              "    </tr>\n",
              "    <tr>\n",
              "      <th>754</th>\n",
              "      <td>0</td>\n",
              "      <td>1</td>\n",
              "      <td>0</td>\n",
              "      <td>0</td>\n",
              "      <td>0</td>\n",
              "      <td>0</td>\n",
              "      <td>0</td>\n",
              "      <td>0</td>\n",
              "      <td>0</td>\n",
              "      <td>0</td>\n",
              "      <td>...</td>\n",
              "      <td>0</td>\n",
              "      <td>0</td>\n",
              "      <td>0</td>\n",
              "      <td>0</td>\n",
              "      <td>0</td>\n",
              "      <td>0</td>\n",
              "      <td>0</td>\n",
              "      <td>0</td>\n",
              "      <td>0</td>\n",
              "      <td>1</td>\n",
              "    </tr>\n",
              "    <tr>\n",
              "      <th>755</th>\n",
              "      <td>0</td>\n",
              "      <td>0</td>\n",
              "      <td>0</td>\n",
              "      <td>0</td>\n",
              "      <td>0</td>\n",
              "      <td>0</td>\n",
              "      <td>1</td>\n",
              "      <td>0</td>\n",
              "      <td>0</td>\n",
              "      <td>0</td>\n",
              "      <td>...</td>\n",
              "      <td>0</td>\n",
              "      <td>0</td>\n",
              "      <td>0</td>\n",
              "      <td>0</td>\n",
              "      <td>0</td>\n",
              "      <td>0</td>\n",
              "      <td>0</td>\n",
              "      <td>0</td>\n",
              "      <td>28</td>\n",
              "      <td>0</td>\n",
              "    </tr>\n",
              "  </tbody>\n",
              "</table>\n",
              "<p>743 rows × 24 columns</p>\n",
              "</div>\n",
              "      <button class=\"colab-df-convert\" onclick=\"convertToInteractive('df-8500d93a-fe7a-43c6-b9bb-95559fc27970')\"\n",
              "              title=\"Convert this dataframe to an interactive table.\"\n",
              "              style=\"display:none;\">\n",
              "        \n",
              "  <svg xmlns=\"http://www.w3.org/2000/svg\" height=\"24px\"viewBox=\"0 0 24 24\"\n",
              "       width=\"24px\">\n",
              "    <path d=\"M0 0h24v24H0V0z\" fill=\"none\"/>\n",
              "    <path d=\"M18.56 5.44l.94 2.06.94-2.06 2.06-.94-2.06-.94-.94-2.06-.94 2.06-2.06.94zm-11 1L8.5 8.5l.94-2.06 2.06-.94-2.06-.94L8.5 2.5l-.94 2.06-2.06.94zm10 10l.94 2.06.94-2.06 2.06-.94-2.06-.94-.94-2.06-.94 2.06-2.06.94z\"/><path d=\"M17.41 7.96l-1.37-1.37c-.4-.4-.92-.59-1.43-.59-.52 0-1.04.2-1.43.59L10.3 9.45l-7.72 7.72c-.78.78-.78 2.05 0 2.83L4 21.41c.39.39.9.59 1.41.59.51 0 1.02-.2 1.41-.59l7.78-7.78 2.81-2.81c.8-.78.8-2.07 0-2.86zM5.41 20L4 18.59l7.72-7.72 1.47 1.35L5.41 20z\"/>\n",
              "  </svg>\n",
              "      </button>\n",
              "      \n",
              "  <style>\n",
              "    .colab-df-container {\n",
              "      display:flex;\n",
              "      flex-wrap:wrap;\n",
              "      gap: 12px;\n",
              "    }\n",
              "\n",
              "    .colab-df-convert {\n",
              "      background-color: #E8F0FE;\n",
              "      border: none;\n",
              "      border-radius: 50%;\n",
              "      cursor: pointer;\n",
              "      display: none;\n",
              "      fill: #1967D2;\n",
              "      height: 32px;\n",
              "      padding: 0 0 0 0;\n",
              "      width: 32px;\n",
              "    }\n",
              "\n",
              "    .colab-df-convert:hover {\n",
              "      background-color: #E2EBFA;\n",
              "      box-shadow: 0px 1px 2px rgba(60, 64, 67, 0.3), 0px 1px 3px 1px rgba(60, 64, 67, 0.15);\n",
              "      fill: #174EA6;\n",
              "    }\n",
              "\n",
              "    [theme=dark] .colab-df-convert {\n",
              "      background-color: #3B4455;\n",
              "      fill: #D2E3FC;\n",
              "    }\n",
              "\n",
              "    [theme=dark] .colab-df-convert:hover {\n",
              "      background-color: #434B5C;\n",
              "      box-shadow: 0px 1px 3px 1px rgba(0, 0, 0, 0.15);\n",
              "      filter: drop-shadow(0px 1px 2px rgba(0, 0, 0, 0.3));\n",
              "      fill: #FFFFFF;\n",
              "    }\n",
              "  </style>\n",
              "\n",
              "      <script>\n",
              "        const buttonEl =\n",
              "          document.querySelector('#df-8500d93a-fe7a-43c6-b9bb-95559fc27970 button.colab-df-convert');\n",
              "        buttonEl.style.display =\n",
              "          google.colab.kernel.accessAllowed ? 'block' : 'none';\n",
              "\n",
              "        async function convertToInteractive(key) {\n",
              "          const element = document.querySelector('#df-8500d93a-fe7a-43c6-b9bb-95559fc27970');\n",
              "          const dataTable =\n",
              "            await google.colab.kernel.invokeFunction('convertToInteractive',\n",
              "                                                     [key], {});\n",
              "          if (!dataTable) return;\n",
              "\n",
              "          const docLinkHtml = 'Like what you see? Visit the ' +\n",
              "            '<a target=\"_blank\" href=https://colab.research.google.com/notebooks/data_table.ipynb>data table notebook</a>'\n",
              "            + ' to learn more about interactive tables.';\n",
              "          element.innerHTML = '';\n",
              "          dataTable['output_type'] = 'display_data';\n",
              "          await google.colab.output.renderOutput(dataTable, element);\n",
              "          const docLink = document.createElement('div');\n",
              "          docLink.innerHTML = docLinkHtml;\n",
              "          element.appendChild(docLink);\n",
              "        }\n",
              "      </script>\n",
              "    </div>\n",
              "  </div>\n",
              "  "
            ]
          },
          "metadata": {},
          "execution_count": 48
        }
      ]
    },
    {
      "cell_type": "code",
      "source": [
        "def toss_dic(team1,team2,toss_win,stem):\n",
        "  arr=[0,0,0,0,0,0,0,0,0,0,0,0,0,0,0,0,0,0,0,0,0,0,0,0]\n",
        "  teamcode={'CSK':0, 'DD':1, 'GL':2, 'KBKP':3, 'KTK':4, 'KKR':5, 'MI':6, 'PW':7, 'RR':8, 'RCB':9,\n",
        "       'SRH':10,'field':1, 'bat':0}\n",
        "  arr[23]=le_name_mapping[stem]    \n",
        "  # arr[22]=le_name_mapping[stem]\n",
        "  arr[(11+teamcode[team2])]=1\n",
        "  arr[(teamcode[team1])]=1\n",
        "  pred=np.array(arr)\n",
        "  ass=model_tossdic.predict(pred.reshape(1, -1))\n",
        "  print(arr)\n",
        "  if ass == 0:\n",
        "    print(team1)\n",
        "  else:\n",
        "    print(team2)\n",
        "toss_dic('MI','CSK',1,'Holkar Cricket Stadium')"
      ],
      "metadata": {
        "colab": {
          "base_uri": "https://localhost:8080/"
        },
        "id": "m2lUITn9bb0K",
        "outputId": "ef0d70a1-8668-4997-f966-0a4e58b2cdf0"
      },
      "execution_count": 53,
      "outputs": [
        {
          "output_type": "stream",
          "name": "stdout",
          "text": [
            "[0, 0, 0, 0, 0, 0, 1, 0, 0, 0, 0, 1, 0, 0, 0, 0, 0, 0, 0, 0, 0, 0, 0, 12]\n",
            "CSK\n"
          ]
        },
        {
          "output_type": "stream",
          "name": "stderr",
          "text": [
            "/usr/local/lib/python3.7/dist-packages/sklearn/base.py:451: UserWarning: X does not have valid feature names, but RandomForestClassifier was fitted with feature names\n",
            "  \"X does not have valid feature names, but\"\n"
          ]
        }
      ]
    },
    {
      "cell_type": "code",
      "source": [
        "from joblib import dump\n",
        "dump(model_tossdic,'modeltosdic.joblib')"
      ],
      "metadata": {
        "colab": {
          "base_uri": "https://localhost:8080/"
        },
        "id": "1uKRxYAEHvJs",
        "outputId": "c240d36b-66dd-40e4-b209-164d8d729f26"
      },
      "execution_count": 51,
      "outputs": [
        {
          "output_type": "execute_result",
          "data": {
            "text/plain": [
              "['modeltosdic.joblib']"
            ]
          },
          "metadata": {},
          "execution_count": 51
        }
      ]
    }
  ],
  "metadata": {
    "colab": {
      "name": "match_winner.ipynb",
      "provenance": [],
      "mount_file_id": "11RDqCnbUKR_rf1c3Nwnuc9c14gu712wd",
      "authorship_tag": "ABX9TyMfsz0BgpF5cvZWa8lYmdcv",
      "include_colab_link": true
    },
    "kernelspec": {
      "display_name": "Python 3",
      "name": "python3"
    },
    "language_info": {
      "name": "python"
    }
  },
  "nbformat": 4,
  "nbformat_minor": 0
}